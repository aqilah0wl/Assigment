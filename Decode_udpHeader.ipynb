{
  "nbformat": 4,
  "nbformat_minor": 0,
  "metadata": {
    "colab": {
      "name": "Decode udpHeader.ipynb",
      "provenance": [],
      "authorship_tag": "ABX9TyN+6xO0TcDofmTSlvNSz7C5",
      "include_colab_link": true
    },
    "kernelspec": {
      "name": "python3",
      "display_name": "Python 3"
    },
    "language_info": {
      "name": "python"
    }
  },
  "cells": [
    {
      "cell_type": "markdown",
      "metadata": {
        "id": "view-in-github",
        "colab_type": "text"
      },
      "source": [
        "<a href=\"https://colab.research.google.com/github/aqilah0wl/Assigment/blob/main/Decode_udpHeader.ipynb\" target=\"_parent\"><img src=\"https://colab.research.google.com/assets/colab-badge.svg\" alt=\"Open In Colab\"/></a>"
      ]
    },
    {
      "cell_type": "code",
      "metadata": {
        "id": "4ipRex6-PrnN"
      },
      "source": [
        "\n",
        "def sourcePortNumber(udpHeader):\n",
        "  sourcePort = udpHeader[0:4]\n",
        "  result = int(sourcePort, 16)\n",
        "  return result\n",
        "  "
      ],
      "execution_count": null,
      "outputs": []
    },
    {
      "cell_type": "code",
      "metadata": {
        "id": "wIYBeObrZYI9"
      },
      "source": [
        "def destinationPortNumber(udpHeader): #type of udpHeader is string\n",
        "  destinationPort = udpHeader[4:8]\n",
        "  result = int(destinationPort, 16)\n",
        "  return result"
      ],
      "execution_count": null,
      "outputs": []
    },
    {
      "cell_type": "code",
      "metadata": {
        "id": "9oSBr-wIb11D"
      },
      "source": [
        "def lengthOfPacket(udpHeader): #type of udpHeader is string\n",
        "  lengthOfPacket = udpHeader[9:12]\n",
        "  result = int(lengthOfPacket, 16)\n",
        "  return result"
      ],
      "execution_count": null,
      "outputs": []
    },
    {
      "cell_type": "code",
      "metadata": {
        "id": "Sj9R4M-ccLq6"
      },
      "source": [
        "def lengthOfData(udpHeader): #type of udpHeader is string\n",
        "  result = lengthOfPacket(udpHeader) - 8\n",
        "  return result"
      ],
      "execution_count": null,
      "outputs": []
    },
    {
      "cell_type": "code",
      "metadata": {
        "id": "JppqW6ood8jw"
      },
      "source": [
        "def clientProcess(udpHeader): #type of udpHeader is string\n",
        "  port = destinationPortNumber(udpHeader)\n",
        "  process = {\n",
        "      7   : 'Echo',\n",
        "      9   : 'Discard',\n",
        "      11  : 'Users',\n",
        "      13  : 'Daytime',\n",
        "      17  : 'Quote',\n",
        "      19  : 'Chargen',\n",
        "      53  : 'Domain',\n",
        "      67  : 'Bootps',\n",
        "      68  : 'Bootpe',\n",
        "      69  : 'TFTP',\n",
        "      111 : 'RPC',\n",
        "      123 : 'NTP',\n",
        "      161 : 'SNMP',\n",
        "      162 : 'SNMP'\n",
        "  }\n",
        "  result = process.get(port, 'Not Client Process')\n",
        "  return result"
      ],
      "execution_count": null,
      "outputs": []
    },
    {
      "cell_type": "code",
      "metadata": {
        "id": "mJKDVlYiZ6LP"
      },
      "source": [
        "def decodeUdpHeader(udpHeader):\n",
        "  print('Hasil Decode UDP Header ', udpHeader, ' sebagai berikut.')\n",
        "  print('1. Source Port Number       : ', sourcePortNumber(udpHeader))\n",
        "  print('2. Destination Port Number  : ', destinationPortNumber(udpHeader))\n",
        "  print('3. Length Of Packet         : ', lengthOfPacket(udpHeader))\n",
        "  print('4. Length Of Data           : ', lengthOfData(udpHeader))\n",
        "  print('5. Client Process           : ', clientProcess(udpHeader))"
      ],
      "execution_count": null,
      "outputs": []
    },
    {
      "cell_type": "code",
      "metadata": {
        "colab": {
          "base_uri": "https://localhost:8080/"
        },
        "id": "Z3WbgqlBUzqY",
        "outputId": "3fe82ba6-039c-4f01-dbf5-6310bb3070d9"
      },
      "source": [
        "decodeUdpHeader('CB84000D001C001C')"
      ],
      "execution_count": null,
      "outputs": [
        {
          "output_type": "stream",
          "name": "stdout",
          "text": [
            "Hasil Decode UDP Header  CB84000D001C001C  sebagai berikut.\n",
            "1. Source Port Number       :  52100\n",
            "2. Destination Port Number  :  13\n",
            "3. Length Of Packet         :  28\n",
            "4. Length Of Data           :  20\n",
            "5. Client Process           :  Daytime\n"
          ]
        }
      ]
    }
  ]
}