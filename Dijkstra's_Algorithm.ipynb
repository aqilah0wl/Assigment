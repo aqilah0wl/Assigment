{
  "nbformat": 4,
  "nbformat_minor": 0,
  "metadata": {
    "colab": {
      "name": "Dijkstra's Algorithm.ipynb",
      "provenance": [],
      "authorship_tag": "ABX9TyNXOT/AHVAdGkTttO/+W6Kf",
      "include_colab_link": true
    },
    "kernelspec": {
      "name": "python3",
      "display_name": "Python 3"
    },
    "language_info": {
      "name": "python"
    }
  },
  "cells": [
    {
      "cell_type": "markdown",
      "metadata": {
        "id": "view-in-github",
        "colab_type": "text"
      },
      "source": [
        "<a href=\"https://colab.research.google.com/github/aqilah0wl/Assigment/blob/main/Dijkstra's_Algorithm.ipynb\" target=\"_parent\"><img src=\"https://colab.research.google.com/assets/colab-badge.svg\" alt=\"Open In Colab\"/></a>"
      ]
    },
    {
      "cell_type": "code",
      "metadata": {
        "id": "3oB_fcxFPYRG"
      },
      "source": [
        "from queue import PriorityQueue\n",
        "class Graph:\n",
        "\n",
        "  def __init__(self, num_of_vertices):\n",
        "        self.v = num_of_vertices\n",
        "        self.edges = [[-1 for i in range(num_of_vertices)] for j in range(num_of_vertices)]\n",
        "        self.visited = []\n",
        "\n",
        "  def add_edge(self, u, v, weight):\n",
        "    self.edges[u][v] = weight\n",
        "    self.edges[v][u] = weight\n",
        "\n",
        "  def dijkstra(self, start_vertex):\n",
        "    D = {v:float('inf') for v in range(self.v)}\n",
        "    D[start_vertex] = 0\n",
        "\n",
        "    pq = PriorityQueue()\n",
        "    pq.put((0, start_vertex))\n",
        "\n",
        "    while not pq.empty():\n",
        "      (dist, current_vertex) = pq.get()\n",
        "      self.visited.append(current_vertex)\n",
        "\n",
        "      for neighbor in range(self.v):\n",
        "        if self.edges[current_vertex][neighbor] != -1:\n",
        "          distance = self.edges[current_vertex][neighbor]\n",
        "          if neighbor not in self.visited:\n",
        "            old_cost = D[neighbor]\n",
        "            new_cost = D[current_vertex] + distance\n",
        "            if new_cost < old_cost:\n",
        "              pq.put((new_cost, neighbor))\n",
        "              D[neighbor] = new_cost\n",
        "    return D \n",
        "  "
      ],
      "execution_count": 34,
      "outputs": []
    },
    {
      "cell_type": "code",
      "metadata": {
        "id": "sECutKKtGmrP"
      },
      "source": [
        "g = Graph(9)\n",
        "g.add_edge(0, 1, 4)\n",
        "g.add_edge(0, 6, 7)\n",
        "g.add_edge(1, 6, 11)\n",
        "g.add_edge(1, 7, 20)\n",
        "g.add_edge(1, 2, 9)\n",
        "g.add_edge(2, 3, 6)\n",
        "g.add_edge(2, 4, 2)\n",
        "g.add_edge(3, 4, 10)\n",
        "g.add_edge(3, 5, 5)\n",
        "g.add_edge(4, 5, 15)\n",
        "g.add_edge(4, 7, 1)\n",
        "g.add_edge(4, 8, 5)\n",
        "g.add_edge(5, 8, 12)\n",
        "g.add_edge(6, 7, 1)\n",
        "g.add_edge(7, 8, 3)"
      ],
      "execution_count": 35,
      "outputs": []
    },
    {
      "cell_type": "code",
      "metadata": {
        "colab": {
          "base_uri": "https://localhost:8080/"
        },
        "id": "nLk85hFYGupn",
        "outputId": "39461f02-e103-4705-a550-362bf3515ef3"
      },
      "source": [
        "D = g.dijkstra(0)\n",
        "\n",
        "for vertex in range(len(D)):\n",
        "    print(\"Distance from vertex 0 to vertex\", vertex, \"is\", D[vertex])"
      ],
      "execution_count": 36,
      "outputs": [
        {
          "output_type": "stream",
          "name": "stdout",
          "text": [
            "Distance from vertex 0 to vertex 0 is 0\n",
            "Distance from vertex 0 to vertex 1 is 4\n",
            "Distance from vertex 0 to vertex 2 is 11\n",
            "Distance from vertex 0 to vertex 3 is 17\n",
            "Distance from vertex 0 to vertex 4 is 9\n",
            "Distance from vertex 0 to vertex 5 is 22\n",
            "Distance from vertex 0 to vertex 6 is 7\n",
            "Distance from vertex 0 to vertex 7 is 8\n",
            "Distance from vertex 0 to vertex 8 is 11\n"
          ]
        }
      ]
    }
  ]
}